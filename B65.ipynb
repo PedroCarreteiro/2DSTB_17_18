{
  "nbformat": 4,
  "nbformat_minor": 0,
  "metadata": {
    "colab": {
      "provenance": [],
      "authorship_tag": "ABX9TyPsVx0idMRMIAckTygGYtm3",
      "include_colab_link": true
    },
    "kernelspec": {
      "name": "python3",
      "display_name": "Python 3"
    },
    "language_info": {
      "name": "python"
    }
  },
  "cells": [
    {
      "cell_type": "markdown",
      "metadata": {
        "id": "view-in-github",
        "colab_type": "text"
      },
      "source": [
        "<a href=\"https://colab.research.google.com/github/PedroCarreteiro/2DSTB_17_18/blob/main/B65.ipynb\" target=\"_parent\"><img src=\"https://colab.research.google.com/assets/colab-badge.svg\" alt=\"Open In Colab\"/></a>"
      ]
    },
    {
      "cell_type": "markdown",
      "source": [
        "Teste de commit"
      ],
      "metadata": {
        "id": "_lmSTpWBVM_6"
      }
    },
    {
      "cell_type": "code",
      "source": [
        "#Teste"
      ],
      "metadata": {
        "id": "UkoJwD7FVQ5r"
      },
      "execution_count": null,
      "outputs": []
    }
  ]
}